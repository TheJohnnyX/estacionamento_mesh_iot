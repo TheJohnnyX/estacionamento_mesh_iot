{
 "cells": [
  {
   "cell_type": "code",
   "execution_count": 5,
   "metadata": {},
   "outputs": [],
   "source": [
    "import serial\n",
    "import time\n",
    "import mysql.connector\n",
    "import pandas as pd"
   ]
  },
  {
   "cell_type": "code",
   "execution_count": 2,
   "metadata": {},
   "outputs": [
    {
     "ename": "SerialException",
     "evalue": "could not open port 'COM6': FileNotFoundError(2, 'O sistema não pode encontrar o arquivo especificado.', None, 2)",
     "output_type": "error",
     "traceback": [
      "\u001b[1;31m---------------------------------------------------------------------------\u001b[0m",
      "\u001b[1;31mSerialException\u001b[0m                           Traceback (most recent call last)",
      "\u001b[1;32m<ipython-input-2-958601449ada>\u001b[0m in \u001b[0;36m<module>\u001b[1;34m\u001b[0m\n\u001b[1;32m----> 1\u001b[1;33m arduino = serial.Serial(\n\u001b[0m\u001b[0;32m      2\u001b[0m     \u001b[0mport\u001b[0m\u001b[1;33m=\u001b[0m\u001b[1;34m'COM6'\u001b[0m\u001b[1;33m,\u001b[0m\u001b[1;33m\u001b[0m\u001b[1;33m\u001b[0m\u001b[0m\n\u001b[0;32m      3\u001b[0m     \u001b[0mbaudrate\u001b[0m\u001b[1;33m=\u001b[0m\u001b[1;36m115200\u001b[0m\u001b[1;33m,\u001b[0m\u001b[1;33m\u001b[0m\u001b[1;33m\u001b[0m\u001b[0m\n\u001b[0;32m      4\u001b[0m     )\n",
      "\u001b[1;32m~\\anaconda3\\lib\\site-packages\\serial\\serialwin32.py\u001b[0m in \u001b[0;36m__init__\u001b[1;34m(self, *args, **kwargs)\u001b[0m\n\u001b[0;32m     31\u001b[0m         \u001b[0mself\u001b[0m\u001b[1;33m.\u001b[0m\u001b[0m_overlapped_read\u001b[0m \u001b[1;33m=\u001b[0m \u001b[1;32mNone\u001b[0m\u001b[1;33m\u001b[0m\u001b[1;33m\u001b[0m\u001b[0m\n\u001b[0;32m     32\u001b[0m         \u001b[0mself\u001b[0m\u001b[1;33m.\u001b[0m\u001b[0m_overlapped_write\u001b[0m \u001b[1;33m=\u001b[0m \u001b[1;32mNone\u001b[0m\u001b[1;33m\u001b[0m\u001b[1;33m\u001b[0m\u001b[0m\n\u001b[1;32m---> 33\u001b[1;33m         \u001b[0msuper\u001b[0m\u001b[1;33m(\u001b[0m\u001b[0mSerial\u001b[0m\u001b[1;33m,\u001b[0m \u001b[0mself\u001b[0m\u001b[1;33m)\u001b[0m\u001b[1;33m.\u001b[0m\u001b[0m__init__\u001b[0m\u001b[1;33m(\u001b[0m\u001b[1;33m*\u001b[0m\u001b[0margs\u001b[0m\u001b[1;33m,\u001b[0m \u001b[1;33m**\u001b[0m\u001b[0mkwargs\u001b[0m\u001b[1;33m)\u001b[0m\u001b[1;33m\u001b[0m\u001b[1;33m\u001b[0m\u001b[0m\n\u001b[0m\u001b[0;32m     34\u001b[0m \u001b[1;33m\u001b[0m\u001b[0m\n\u001b[0;32m     35\u001b[0m     \u001b[1;32mdef\u001b[0m \u001b[0mopen\u001b[0m\u001b[1;33m(\u001b[0m\u001b[0mself\u001b[0m\u001b[1;33m)\u001b[0m\u001b[1;33m:\u001b[0m\u001b[1;33m\u001b[0m\u001b[1;33m\u001b[0m\u001b[0m\n",
      "\u001b[1;32m~\\anaconda3\\lib\\site-packages\\serial\\serialutil.py\u001b[0m in \u001b[0;36m__init__\u001b[1;34m(self, port, baudrate, bytesize, parity, stopbits, timeout, xonxoff, rtscts, write_timeout, dsrdtr, inter_byte_timeout, exclusive, **kwargs)\u001b[0m\n\u001b[0;32m    242\u001b[0m \u001b[1;33m\u001b[0m\u001b[0m\n\u001b[0;32m    243\u001b[0m         \u001b[1;32mif\u001b[0m \u001b[0mport\u001b[0m \u001b[1;32mis\u001b[0m \u001b[1;32mnot\u001b[0m \u001b[1;32mNone\u001b[0m\u001b[1;33m:\u001b[0m\u001b[1;33m\u001b[0m\u001b[1;33m\u001b[0m\u001b[0m\n\u001b[1;32m--> 244\u001b[1;33m             \u001b[0mself\u001b[0m\u001b[1;33m.\u001b[0m\u001b[0mopen\u001b[0m\u001b[1;33m(\u001b[0m\u001b[1;33m)\u001b[0m\u001b[1;33m\u001b[0m\u001b[1;33m\u001b[0m\u001b[0m\n\u001b[0m\u001b[0;32m    245\u001b[0m \u001b[1;33m\u001b[0m\u001b[0m\n\u001b[0;32m    246\u001b[0m     \u001b[1;31m#  -  -  -  -  -  -  -  -  -  -  -  -  -  -  -  -  -  -  -  -  -  -  -  -\u001b[0m\u001b[1;33m\u001b[0m\u001b[1;33m\u001b[0m\u001b[1;33m\u001b[0m\u001b[0m\n",
      "\u001b[1;32m~\\anaconda3\\lib\\site-packages\\serial\\serialwin32.py\u001b[0m in \u001b[0;36mopen\u001b[1;34m(self)\u001b[0m\n\u001b[0;32m     62\u001b[0m         \u001b[1;32mif\u001b[0m \u001b[0mself\u001b[0m\u001b[1;33m.\u001b[0m\u001b[0m_port_handle\u001b[0m \u001b[1;33m==\u001b[0m \u001b[0mwin32\u001b[0m\u001b[1;33m.\u001b[0m\u001b[0mINVALID_HANDLE_VALUE\u001b[0m\u001b[1;33m:\u001b[0m\u001b[1;33m\u001b[0m\u001b[1;33m\u001b[0m\u001b[0m\n\u001b[0;32m     63\u001b[0m             \u001b[0mself\u001b[0m\u001b[1;33m.\u001b[0m\u001b[0m_port_handle\u001b[0m \u001b[1;33m=\u001b[0m \u001b[1;32mNone\u001b[0m    \u001b[1;31m# 'cause __del__ is called anyway\u001b[0m\u001b[1;33m\u001b[0m\u001b[1;33m\u001b[0m\u001b[0m\n\u001b[1;32m---> 64\u001b[1;33m             \u001b[1;32mraise\u001b[0m \u001b[0mSerialException\u001b[0m\u001b[1;33m(\u001b[0m\u001b[1;34m\"could not open port {!r}: {!r}\"\u001b[0m\u001b[1;33m.\u001b[0m\u001b[0mformat\u001b[0m\u001b[1;33m(\u001b[0m\u001b[0mself\u001b[0m\u001b[1;33m.\u001b[0m\u001b[0mportstr\u001b[0m\u001b[1;33m,\u001b[0m \u001b[0mctypes\u001b[0m\u001b[1;33m.\u001b[0m\u001b[0mWinError\u001b[0m\u001b[1;33m(\u001b[0m\u001b[1;33m)\u001b[0m\u001b[1;33m)\u001b[0m\u001b[1;33m)\u001b[0m\u001b[1;33m\u001b[0m\u001b[1;33m\u001b[0m\u001b[0m\n\u001b[0m\u001b[0;32m     65\u001b[0m \u001b[1;33m\u001b[0m\u001b[0m\n\u001b[0;32m     66\u001b[0m         \u001b[1;32mtry\u001b[0m\u001b[1;33m:\u001b[0m\u001b[1;33m\u001b[0m\u001b[1;33m\u001b[0m\u001b[0m\n",
      "\u001b[1;31mSerialException\u001b[0m: could not open port 'COM6': FileNotFoundError(2, 'O sistema não pode encontrar o arquivo especificado.', None, 2)"
     ]
    }
   ],
   "source": [
    "arduino = serial.Serial(\n",
    "    port='COM6',\n",
    "    baudrate=115200,\n",
    "    )"
   ]
  },
  {
   "cell_type": "code",
   "execution_count": 7,
   "metadata": {},
   "outputs": [],
   "source": [
    "mysql = mysql.connector.connect(\n",
    "    host=\"localhost\",\n",
    "    database = \"exercicio_php\",\n",
    "    port=3306,\n",
    "    user=\"root\",\n",
    "    password=\"1234\")"
   ]
  },
  {
   "cell_type": "code",
   "execution_count": 29,
   "metadata": {},
   "outputs": [],
   "source": [
    "def readSerial():\n",
    "    message = ''\n",
    "    while (arduino.inWaiting() > 0):\n",
    "        message += arduino.readline(1).decode()\n",
    "    \n",
    "    if (\"nodeNumber\" in message):\n",
    "        print(message)\n",
    "        \n",
    "        nodeNumber = getNodeNumber(message)\n",
    "        nodeStatus = getNodeStatus(message)\n",
    "        \n",
    "        dados = pd.read_sql(\n",
    "        sql = \"SELECT * FROM mesh_network WHERE node = \" + str(nodeNumber) + \" \",\n",
    "        con = mysql\n",
    "        )\n",
    "\n",
    "        if dados.empty:\n",
    "            sql = \"insert into mesh_network VALUES( \" + str(nodeNumber) + \", \" + str(nodeStatus) + \" )\"\n",
    "            print(\"insert\")\n",
    "        else:\n",
    "            sql = \"update mesh_network SET state = \" + str(nodeStatus) + \" WHERE node = \" + str(nodeNumber) +\" \"\n",
    "            print(\"update\")\n",
    "            \n",
    "        mycursor = mysql.cursor()\n",
    "        mycursor.execute(sql)\n",
    "        mysql.commit()"
   ]
  },
  {
   "cell_type": "code",
   "execution_count": 5,
   "metadata": {},
   "outputs": [],
   "source": [
    "def getNodeNumber(message):\n",
    "    node_index = message.find(\"nodeNumber\")\n",
    "    starting_index = node_index + 12\n",
    "    final_index = starting_index + 1\n",
    "\n",
    "    nodeNumber = message[starting_index:final_index]\n",
    "\n",
    "    return nodeNumber"
   ]
  },
  {
   "cell_type": "code",
   "execution_count": 6,
   "metadata": {},
   "outputs": [],
   "source": [
    "def getNodeStatus(message):\n",
    "    node_index = message.find(\"state\")\n",
    "    starting_index = node_index + 7\n",
    "    final_index = starting_index + 1\n",
    "\n",
    "    state = message[starting_index:final_index]\n",
    "\n",
    "    if (state == 't'):\n",
    "        state = 1\n",
    "    else:\n",
    "        state = 0\n",
    "\n",
    "    return state"
   ]
  },
  {
   "cell_type": "code",
   "execution_count": null,
   "metadata": {},
   "outputs": [
    {
     "name": "stdout",
     "output_type": "stream",
     "text": [
      "\n",
      "setLogLevel: ERROR | STARTUP |\n",
      "STARTUP: init(): 0\n",
      "STARTUP: AP tcp server established on port 5555\n",
      "{\"nodeNumber\":1,\"state\":true}{\"nodeNumber\":1,\"state\":true}\n",
      "{\"nodeNumber\":1,\"state\":true}\n",
      "{\"nodeNumber\":1,\"state\":true}\n",
      "{\"nodeNumber\":3,\"state\":true}\n",
      "\n",
      "{\"nodeNumber\":2,\"state\":true}\n",
      "\n",
      "{\"nodeNumber\":1,\"st\n",
      "{\"nodeNumber\":3,\"state\":true}\n",
      "\n",
      "{\"nodeNumber\":2,\"state\":true}\n",
      "\n",
      "{\"nodeNumber\":1,\"state\":true}\n",
      "{\"nodeNumber\":3,\"state\":true}\n",
      "\n",
      "{\"nodeNumber\":2,\"state\":true}\n",
      "\n",
      "{\"nodeNumber\":1,\"state\":true}\n",
      "{\"nodeNumber\":3,\"state\":true}\n",
      "\n",
      "{\"nodeNumber\":2,\"state\":true}\n",
      "\n",
      "{\"nodeNumber\":1,\"state\":true}\n",
      "{\"nodeNumber\":3,\"state\":true}\n",
      "\n",
      "{\"nodeNumber\":2,\"state\":true}\n",
      "\n",
      "{\"nodeNumber\":1,\"state\":true}\n",
      "{\"nodeNumber\":3,\"state\":true}\n",
      "\n",
      "{\"nodeNumber\":1,\"state\":true}\n",
      "{\"nodeNumber\":3,\"state\":true}\n",
      "\n",
      "{\"nodeNumber\":2,\"state\":true}\n",
      "\n",
      "{\"nodeNumber\":1,\"state\":true}\n",
      "{\"nodeNumber\":3,\"state\":true}\n",
      "\n",
      "{\"nodeNumber\":2,\"state\":true}\n",
      "\n",
      "{\"nodeNumber\":1,\"state\":true}\n",
      "{\"nodeNumber\":3,\"state\":true}\n",
      "\n",
      "{\"nodeNumber\":2,\"state\":true}\n",
      "\n",
      "{\"nodeNumber\":1\n",
      "{\"nodeNumber\":3,\"state\":true}\n",
      "\n",
      "{\"nodeNumber\":2,\"state\":true}\n",
      "\n",
      "{\"nodeNumber\":1,\"state\":true}\n",
      "{\"nodeNumber\":3,\"state\":true}\n",
      "\n",
      "{\"nodeNumber\":2,\"\n",
      "{\"nodeNumber\":1,\"state\":true}\n",
      "{\"nodeNumber\":3,\"state\":true}\n",
      "\n",
      "{\"nodeNumber\":2,\"state\":true}\n",
      "\n",
      "{\"nodeNumber\":1,\"state\":true}\n"
     ]
    }
   ],
   "source": [
    "while (True):\n",
    "    readSerial()\n",
    "    time.sleep(0.01)"
   ]
  },
  {
   "cell_type": "code",
   "execution_count": 30,
   "metadata": {},
   "outputs": [
    {
     "name": "stdout",
     "output_type": "stream",
     "text": [
      "insert\n"
     ]
    }
   ],
   "source": [
    "nodeNumber = 4\n",
    "nodeStatus = 1\n",
    "\n",
    "dados = pd.read_sql(\n",
    "    sql = \"SELECT * FROM mesh_network WHERE node = \" + str(nodeNumber) + \" \",\n",
    "    con = mysql\n",
    ")\n",
    "\n",
    "\n",
    "if dados.empty:\n",
    "    sql = \"insert into mesh_network VALUES( \" + str(nodeNumber) + \", \" + str(nodeStatus) + \" )\"\n",
    "    print(\"insert\")\n",
    "else:\n",
    "    sql = \"update mesh_network SET state = \" + str(nodeStatus) + \" WHERE node = \" + str(nodeNumber) +\" \"\n",
    "    print(\"update\")\n",
    "mycursor = mysql.cursor()\n",
    "mycursor.execute(sql)\n",
    "mysql.commit()"
   ]
  }
 ],
 "metadata": {
  "kernelspec": {
   "display_name": "Python 3",
   "language": "python",
   "name": "python3"
  },
  "language_info": {
   "codemirror_mode": {
    "name": "ipython",
    "version": 3
   },
   "file_extension": ".py",
   "mimetype": "text/x-python",
   "name": "python",
   "nbconvert_exporter": "python",
   "pygments_lexer": "ipython3",
   "version": "3.8.3"
  }
 },
 "nbformat": 4,
 "nbformat_minor": 4
}
