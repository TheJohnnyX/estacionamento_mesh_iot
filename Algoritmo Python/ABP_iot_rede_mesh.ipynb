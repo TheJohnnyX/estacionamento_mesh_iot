{
 "cells": [
  {
   "cell_type": "code",
   "execution_count": null,
   "metadata": {},
   "outputs": [],
   "source": [
    "import serial\n",
    "import time\n",
    "import mysql.connector\n",
    "import pandas as pd"
   ]
  },
  {
   "cell_type": "code",
   "execution_count": null,
   "metadata": {},
   "outputs": [],
   "source": [
    "arduino = serial.Serial(\n",
    "    port='COM6',\n",
    "    baudrate=115200,\n",
    "    )"
   ]
  },
  {
   "cell_type": "code",
   "execution_count": null,
   "metadata": {},
   "outputs": [],
   "source": [
    "mysql = mysql.connector.connect(\n",
    "    host=\"localhost\",\n",
    "    database = \"exercicio_php\",\n",
    "    port=3306,\n",
    "    user=\"root\",\n",
    "    password=\"1234\")"
   ]
  },
  {
   "cell_type": "code",
   "execution_count": null,
   "metadata": {},
   "outputs": [],
   "source": [
    "def readSerial():\n",
    "    message = ''\n",
    "    while (arduino.inWaiting() > 0):\n",
    "        message += arduino.readline(1).decode()\n",
    "    \n",
    "    if (\"nodeNumber\" in message):\n",
    "        print(message)\n",
    "        \n",
    "        nodeNumber = getNodeNumber(message)\n",
    "        nodeStatus = getNodeStatus(message)\n",
    "        \n",
    "        if (nodeNumber != ''):\n",
    "        \n",
    "            dados = pd.read_sql(\n",
    "            sql = \"SELECT * FROM mesh_network WHERE node = \" + str(nodeNumber) + \" \",\n",
    "            con = mysql\n",
    "            )\n",
    "\n",
    "            if dados.empty:\n",
    "                sql = \"insert into mesh_network VALUES( \" + str(nodeNumber) + \", \" + str(nodeStatus) + \" )\"\n",
    "                print(\"insert\")\n",
    "            else:\n",
    "                sql = \"update mesh_network SET state = \" + str(nodeStatus) + \" WHERE node = \" + str(nodeNumber) +\" \"\n",
    "                print(\"update\")\n",
    "\n",
    "            mycursor = mysql.cursor()\n",
    "            mycursor.execute(sql)\n",
    "            mysql.commit()"
   ]
  },
  {
   "cell_type": "code",
   "execution_count": null,
   "metadata": {},
   "outputs": [],
   "source": [
    "def getNodeNumber(message):\n",
    "    node_index = message.find(\"nodeNumber\")\n",
    "    starting_index = node_index + 12\n",
    "    final_index = starting_index + 1\n",
    "\n",
    "    nodeNumber = message[starting_index:final_index]\n",
    "\n",
    "    return nodeNumber"
   ]
  },
  {
   "cell_type": "code",
   "execution_count": null,
   "metadata": {},
   "outputs": [],
   "source": [
    "def getNodeStatus(message):\n",
    "    node_index = message.find(\"state\")\n",
    "    starting_index = node_index + 7\n",
    "    final_index = starting_index + 1\n",
    "\n",
    "    state = message[starting_index:final_index]\n",
    "\n",
    "    if (state == 't'):\n",
    "        state = 1\n",
    "    else:\n",
    "        state = 0\n",
    "\n",
    "    return state"
   ]
  },
  {
   "cell_type": "code",
   "execution_count": null,
   "metadata": {},
   "outputs": [],
   "source": [
    "while (True):\n",
    "    readSerial()\n",
    "    time.sleep(0.01)"
   ]
  },
  {
   "cell_type": "code",
   "execution_count": null,
   "metadata": {},
   "outputs": [],
   "source": []
  },
  {
   "cell_type": "code",
   "execution_count": null,
   "metadata": {},
   "outputs": [],
   "source": []
  }
 ],
 "metadata": {
  "kernelspec": {
   "display_name": "Python 3",
   "language": "python",
   "name": "python3"
  },
  "language_info": {
   "codemirror_mode": {
    "name": "ipython",
    "version": 3
   },
   "file_extension": ".py",
   "mimetype": "text/x-python",
   "name": "python",
   "nbconvert_exporter": "python",
   "pygments_lexer": "ipython3",
   "version": "3.8.3"
  }
 },
 "nbformat": 4,
 "nbformat_minor": 4
}
